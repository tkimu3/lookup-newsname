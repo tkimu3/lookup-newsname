{
 "cells": [
  {
   "cell_type": "code",
   "execution_count": 58,
   "metadata": {},
   "outputs": [],
   "source": [
    "import requests\n",
    "from bs4 import BeautifulSoup\n",
    "# Use requests_html\n",
    "from requests_html import HTMLSession\n",
    "from requests_html import AsyncHTMLSession\n",
    "\n",
    "# Define the base URL and Query Parameter of the website\n",
    "BASE_URL = 'https://www2.nhk.or.jp/gogaku/gendaieigo/detail/index.html'\n",
    "QUERY_PARAM = '?no='\n",
    "\n",
    "def create_url_from_date_query_param(base_url, query_param):\n",
    "    # Input date and create the url to access the website for the date\n",
    "    date = input(\"Input date:\")\n",
    "    url = base_url + query_param + date\n",
    "    return url\n",
    "\n",
    "def getHTMLcontents(url):\n",
    "    # Get the HTML file from the URL\n",
    "    html = requests.get(url)\n",
    "    # Read the HTML file using BeautifulSoup\n",
    "    content = BeautifulSoup(html.content, \"html.parser\")\n",
    "    return content\n",
    "\n",
    "# Print the created url of the website\n",
    "url = create_url_from_date_query_param(BASE_URL,QUERY_PARAM)"
   ]
  },
  {
   "cell_type": "code",
   "execution_count": 59,
   "metadata": {},
   "outputs": [
    {
     "name": "stdout",
     "output_type": "stream",
     "text": [
      "https://www2.nhk.or.jp/gogaku/gendaieigo/detail/index.html?no=20230208\n"
     ]
    }
   ],
   "source": [
    "print(url)"
   ]
  },
  {
   "cell_type": "code",
   "execution_count": 60,
   "metadata": {},
   "outputs": [],
   "source": [
    "# Use requests-html\n",
    "# https://gammasoft.jp/blog/how-to-download-web-page-created-javascript/\n",
    "# https://pypi.org/project/requests-html/\n",
    "\n",
    "asession = AsyncHTMLSession()\n",
    "\n",
    "# exec JavaScript using arender()\n",
    "# https://blog.ikedaosushi.com/entry/2019/09/15/162445\n",
    "async def exec_js(url):\n",
    "    r = await asession.get(url)\n",
    "    # Generate HTML using a browser engine (Chronium Browser)\n",
    "    await r.html.arender()\n",
    "    return r"
   ]
  },
  {
   "cell_type": "code",
   "execution_count": 61,
   "metadata": {},
   "outputs": [],
   "source": [
    "# Neet to solve the error happend when executing \"asyncio\" in JupyterNotebook \n",
    "import nest_asyncio\n",
    "nest_asyncio.apply()\n",
    "\n",
    "# Execute the function \"exec_js\"\n",
    "import asyncio\n",
    "loop = asyncio.get_event_loop()\n",
    "r = loop.run_until_complete(exec_js(url))"
   ]
  },
  {
   "cell_type": "code",
   "execution_count": 62,
   "metadata": {},
   "outputs": [
    {
     "name": "stdout",
     "output_type": "stream",
     "text": [
      "['__aiter__', '__anext__', '__class__', '__delattr__', '__dict__', '__dir__', '__doc__', '__eq__', '__format__', '__ge__', '__getattribute__', '__gt__', '__hash__', '__init__', '__init_subclass__', '__iter__', '__le__', '__lt__', '__module__', '__ne__', '__new__', '__next__', '__reduce__', '__reduce_ex__', '__repr__', '__setattr__', '__sizeof__', '__str__', '__subclasshook__', '__weakref__', '_async_render', '_encoding', '_html', '_lxml', '_make_absolute', '_pq', 'absolute_links', 'add_next_symbol', 'arender', 'base_url', 'browser', 'default_encoding', 'element', 'encoding', 'find', 'full_text', 'html', 'links', 'lxml', 'next', 'next_symbol', 'page', 'pq', 'raw_html', 'render', 'search', 'search_all', 'session', 'skip_anchors', 'text', 'url', 'xpath']\n"
     ]
    }
   ],
   "source": [
    "\n",
    "# CSS Selector for the news title\n",
    "# wp > div.gendai-hd2 > div > div > p.gendai-hd2-info--cat\n",
    "# sel = '#wp > div.gendai-hd2 > div > div > p.gendai-hd2-info--cat'\n",
    "sel = '#wp > div.gendai-hd2 > div > div > p.gendai-hd2-info--broadcast'\n",
    "all_elements = r.html\n",
    "# element = r.html.find(sel, first=True)\n",
    "print(dir(all_elements))"
   ]
  },
  {
   "cell_type": "code",
   "execution_count": null,
   "metadata": {},
   "outputs": [],
   "source": [
    "print(all_elements.find(sel, first=True).text)"
   ]
  },
  {
   "cell_type": "code",
   "execution_count": 64,
   "metadata": {},
   "outputs": [
    {
     "name": "stdout",
     "output_type": "stream",
     "text": [
      "0:2023年2月8日(水)の放送内容\n",
      "------------------------------\n",
      "1:越冬キャベツ 掘り出し作業盛ん\n",
      "------------------------------\n",
      "2:HOKKAIDO TOWN BEGINS SHIPPING WINTER CABBAGES\n",
      "------------------------------\n",
      "3:2023年1月19日のニュース\n",
      "------------------------------\n"
     ]
    }
   ],
   "source": [
    "elements = all_elements.find(sel, first = True).text\n",
    "lines = {}\n",
    "for i, line in enumerate(elements.split(\"\\n\")):\n",
    "    if i < 4:\n",
    "        lines[i] = line\n",
    "        print('{}:{}'.format(i,lines[i]))\n",
    "        print('---'*10)"
   ]
  },
  {
   "cell_type": "code",
   "execution_count": 97,
   "metadata": {},
   "outputs": [
    {
     "name": "stdout",
     "output_type": "stream",
     "text": [
      "before:2023年2月8日(水)の放送内容\n",
      "after:2023年2月8日\n"
     ]
    }
   ],
   "source": [
    "# Pickup Japan datetime format from string\n",
    "import re\n",
    "def pickup_datetime(text):\n",
    "    s = text\n",
    "    pattern = r'\\d{4}年\\d{1,2}月\\d{1,2}日'\n",
    "    return re.findall(pattern, s)\n",
    "\n",
    "print('before:{}'.format(lines[0]))\n",
    "str_date = pickup_datetime(lines[0])[0]\n",
    "print('after:{}'.format(str_date))"
   ]
  },
  {
   "cell_type": "code",
   "execution_count": 66,
   "metadata": {},
   "outputs": [
    {
     "name": "stdout",
     "output_type": "stream",
     "text": [
      "2023-02-08\n"
     ]
    }
   ],
   "source": [
    "# Convert the strings of Japan datetime format to the datetime object using strptime method\n",
    "# https://atmarkit.itmedia.co.jp/ait/articles/2111/24/news019.html\n",
    "\n",
    "from datetime import datetime\n",
    "# str_date = '2021年11月24日'\n",
    "\n",
    "def convert_datetime_from_jpn(text): \n",
    "    date_obj = datetime.strptime(text, '%Y年%m月%d日')\n",
    "    return date_obj\n",
    "\n",
    "air_date = convert_datetime_from_jpn(str_date).date()\n",
    "print(air_date)"
   ]
  },
  {
   "cell_type": "code",
   "execution_count": 67,
   "metadata": {},
   "outputs": [
    {
     "name": "stdout",
     "output_type": "stream",
     "text": [
      "{0: '2023年2月8日(水)の放送内容', 1: '越冬キャベツ 掘り出し作業盛ん', 2: 'HOKKAIDO TOWN BEGINS SHIPPING WINTER CABBAGES', 3: '2023年1月19日のニュース'}\n"
     ]
    }
   ],
   "source": [
    "print(lines)"
   ]
  },
  {
   "cell_type": "code",
   "execution_count": 68,
   "metadata": {},
   "outputs": [
    {
     "name": "stdout",
     "output_type": "stream",
     "text": [
      "2023-01-19\n"
     ]
    }
   ],
   "source": [
    "news_date = convert_datetime_from_jpn(pickup_datetime(lines[3])[0]).date()\n",
    "print(news_date)"
   ]
  },
  {
   "cell_type": "code",
   "execution_count": 69,
   "metadata": {},
   "outputs": [
    {
     "name": "stdout",
     "output_type": "stream",
     "text": [
      "_HOKKAIDOTOWN_BEGINS_SHIPPING_WINTER_CABBAGES_\n"
     ]
    }
   ],
   "source": [
    "# replace space to underscore\n",
    "def replace_space_to_underscore(text):\n",
    "    words = text.split()\n",
    "    line = ''\n",
    "    for word in words:\n",
    "        if line:\n",
    "            line += word +\"_\"\n",
    "        else:\n",
    "            line += \"_\" + word\n",
    "    return line\n",
    "\n",
    "title = replace_space_to_underscore(lines[2])\n",
    "print(title)"
   ]
  },
  {
   "cell_type": "code",
   "execution_count": 70,
   "metadata": {},
   "outputs": [
    {
     "name": "stdout",
     "output_type": "stream",
     "text": [
      "2023-02-08_HOKKAIDOTOWN_BEGINS_SHIPPING_WINTER_CABBAGES_2023-01-19\n"
     ]
    }
   ],
   "source": [
    "filename = str(air_date) + title + str(news_date)\n",
    "print(filename)"
   ]
  },
  {
   "cell_type": "code",
   "execution_count": 73,
   "metadata": {},
   "outputs": [
    {
     "name": "stdout",
     "output_type": "stream",
     "text": [
      "<Element 'iframe' id='video--detail__media' src='./video.html?no=20230208&file=22-3508-193&thumb=22-3508-193.jpg' frameborder='0' allowfullscreen='allowfullscreen'>\n"
     ]
    }
   ],
   "source": [
    "movie_sel = \"#wp > div.gendai-hd2 > div > div.gendai-hd2-video > div > iframe\"\n",
    "movie_xpath = \"/html/body/div[3]/div[4]/div/div[2]/div/iframe\"\n",
    "print(all_elements.find(movie_sel, first=True))\n",
    "# print(all_elements.xpath(movie_xpath))"
   ]
  },
  {
   "cell_type": "code",
   "execution_count": 74,
   "metadata": {},
   "outputs": [
    {
     "name": "stdout",
     "output_type": "stream",
     "text": [
      "['__class__', '__delattr__', '__dict__', '__dir__', '__doc__', '__eq__', '__format__', '__ge__', '__getattribute__', '__gt__', '__hash__', '__init__', '__init_subclass__', '__le__', '__lt__', '__module__', '__ne__', '__new__', '__reduce__', '__reduce_ex__', '__repr__', '__setattr__', '__sizeof__', '__slots__', '__str__', '__subclasshook__', '__weakref__', '_attrs', '_encoding', '_html', '_lxml', '_make_absolute', '_pq', 'absolute_links', 'attrs', 'base_url', 'default_encoding', 'element', 'encoding', 'find', 'full_text', 'html', 'lineno', 'links', 'lxml', 'pq', 'raw_html', 'search', 'search_all', 'session', 'skip_anchors', 'tag', 'text', 'url', 'xpath']\n"
     ]
    }
   ],
   "source": [
    "print(dir(all_elements.find(movie_sel, first=True)))"
   ]
  },
  {
   "cell_type": "code",
   "execution_count": 90,
   "metadata": {},
   "outputs": [
    {
     "name": "stdout",
     "output_type": "stream",
     "text": [
      "https://www2.nhk.or.jp/gogaku/gendaieigo/detail/index.html?no=20230208\n",
      "https://www2.nhk.or.jp/gogaku/gendaieigo/detail/?no=20230208\n"
     ]
    }
   ],
   "source": [
    "print(all_elements.find(movie_sel,first=True).url)\n",
    "print(all_elements.find(movie_sel, first=True).base_url)"
   ]
  },
  {
   "cell_type": "code",
   "execution_count": 92,
   "metadata": {},
   "outputs": [
    {
     "name": "stdout",
     "output_type": "stream",
     "text": [
      "<class 'set'>\n",
      "['http://k.nhk.jp/', 'https://www.nhk.or.jp/info/?cid=dchk-commonheader', '/gogaku/', 'https://www6.nhk.or.jp/nhkpr/', 'https://hh.pid.nhk.or.jp/pidh10/eventList.do', 'https://www.nhk.jp/g/anime/', 'https://www.nhk-ondemand.jp/', '../', '/gogaku/french/', 'http://www.nhk-ep.com/', 'https://www.nhk.or.jp/heart-net/', 'https://www.nhk.or.jp/school/eigo/beat/', 'https://www3.nhk.or.jp/nhkworld/', 'https://www3.nhk.or.jp/news/', 'https://www.nhk.or.jp/privacy/policy/', 'https://www.nhk.or.jp/bs4k8k/', 'http://www.nhk-sc.or.jp/gogaku/', 'https://www.nhk.jp/g/drama/', 'https://www.nhk.or.jp/', '/gogaku/programs/', 'https://www.nhk.or.jp/school/', '/gogaku/#ct', '/gogaku/english/', 'https://www.nhk.or.jp/kenko/', 'https://www2.nhk.or.jp/gogaku/', 'https://www.nhk.or.jp/toppage/nhk_info/copyright.html', 'https://www3.nhk.or.jp/sports/', '/gogaku/chinese/', 'http://www.nhk-sc.or.jp/gogaku/dls/', 'https://pid.nhk.or.jp/cas/', 'https://www.nhk.or.jp/privacy/notice/general/', 'https://plus.nhk.jp/?cid=dchk-commonheader', 'https://www3.nhk.or.jp/news/special/coronavirus/?cid=dchk-commonheader', 'https://www.nhk.or.jp/info/', '/gogaku/gendaieigo/index.html', 'https://www.nhk.or.jp/radio/', 'https://twitter.com/intent/tweet?text=%E3%83%8B%E3%83%A5%E3%83%BC%E3%82%B9%E3%81%A7%E5%AD%A6%E3%81%B6%E3%80%8C%E7%8F%BE%E4%BB%A3%E8%8B%B1%E8%AA%9E%E3%80%8D%20%7C%20NHK%E3%82%B4%E3%82%AC%E3%82%AF%20%20&url=https://www.nhk.or.jp/gogaku/gendaieigo/', 'https://www.nhk.or.jp/common/sns/help.html', '/gogaku/#indexMainList', '/gogaku/seigo.html', 'https://www.nhk.or.jp/css/', '/gogaku/app/', '/gogaku/arabic/', 'https://www.nhk.or.jp/privacy/', '/gogaku/other/', 'https://www.nhk.jp/timetable/?cid=dchk-commonheader', 'https://www.nhk.or.jp/school/eigo/beat2/', 'https://gogakuru.com/?frn=1', 'https://www.nhk.or.jp/rules/', 'https://www.nhk-cs.jp/jushinryo/', 'https://www.facebook.com/dialog/share?app_id=1480146385671692&display=popup&href=https://www.nhk.or.jp/gogaku/gendaieigo/&redirect_uri=https://www.facebook.com', '/gogaku/spanish/', '/gogaku/#faqModuleWrap', '/gogaku/german/', '/gogaku/programs/radio.html', '/gogaku/index.html', 'https://www.nhk-book.co.jp/text/?utm_source=nhk&utm_medium=mygogaku&utm_campaign=text2019', 'https://www.nhk.or.jp/archives/', 'http://www.nhk.or.jp/', '/gogaku/hangeul/', 'https://www.nhk.or.jp/radio/ondemand/detail.html?p=7512_01', '/gogaku/russian/', '/gogaku/italian/']\n"
     ]
    }
   ],
   "source": [
    "print(type(all_elements.links))\n",
    "print(list(all_elements.links))"
   ]
  }
 ],
 "metadata": {
  "kernelspec": {
   "display_name": "Python 3",
   "language": "python",
   "name": "python3"
  },
  "language_info": {
   "codemirror_mode": {
    "name": "ipython",
    "version": 3
   },
   "file_extension": ".py",
   "mimetype": "text/x-python",
   "name": "python",
   "nbconvert_exporter": "python",
   "pygments_lexer": "ipython3",
   "version": "3.10.9"
  },
  "orig_nbformat": 4,
  "vscode": {
   "interpreter": {
    "hash": "aee8b7b246df8f9039afb4144a1f6fd8d2ca17a180786b69acc140d282b71a49"
   }
  }
 },
 "nbformat": 4,
 "nbformat_minor": 2
}
